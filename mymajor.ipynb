{
  "nbformat": 4,
  "nbformat_minor": 0,
  "metadata": {
    "colab": {
      "provenance": [],
      "include_colab_link": true
    },
    "kernelspec": {
      "name": "python3",
      "display_name": "Python 3"
    },
    "language_info": {
      "name": "python"
    }
  },
  "cells": [
    {
      "cell_type": "markdown",
      "metadata": {
        "id": "view-in-github",
        "colab_type": "text"
      },
      "source": [
        "<a href=\"https://colab.research.google.com/github/SlinkingAphid29/NLP_2024/blob/main/mymajor.ipynb\" target=\"_parent\"><img src=\"https://colab.research.google.com/assets/colab-badge.svg\" alt=\"Open In Colab\"/></a>"
      ]
    },
    {
      "cell_type": "markdown",
      "source": [
        "## **안녕하십니까❗ 저는 <font color = 'red'>멀티미디어공학과 24학번 김상윤</font>입니다.😊**\n",
        "\n",
        "* ### 저의 전공을 소개하자면, 멀티미디어공학과는 혁신적인 기술을 아름답게 구현하여 유익한 정보와 가치를 제공하는 것을 목표로 **<font color = 'red'>공학</font>, <font color = 'red'>미디어학</font>, <font color = 'red'>콘텐츠 디자인학</font>이 <font color = 'red'>융합</font>하여 이루어진 <font color = 'red'>복합적 미래 지향적 학과</font>**입니다.\n",
        "\n",
        "* ### 1학년 때는 기초과목으로만 이루어져 있어서 2학년 때 전공을 선택하며\n",
        "### 1학년인 지금은 포토샵, 일러스트, 엑셀 같은 프로그램을 배우고 2학기부터 프로그래밍을 배웁니다.\n",
        "### 이상입니다."
      ],
      "metadata": {
        "id": "rDMIsehD2n0F"
      }
    },
    {
      "cell_type": "markdown",
      "source": [
        "* [멀티미디어공학과](http://multi.hannam.ac.kr/sub1/menu_1.html)"
      ],
      "metadata": {
        "id": "qlmBJHEZxoxn"
      }
    }
  ]
}